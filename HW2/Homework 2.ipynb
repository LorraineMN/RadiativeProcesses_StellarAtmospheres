{
 "cells": [
  {
   "cell_type": "code",
   "execution_count": 1,
   "id": "7d1d7006",
   "metadata": {},
   "outputs": [],
   "source": [
    "import numpy as np\n",
    "import matplotlib.pyplot as plt\n",
    "\n",
    "import astropy \n",
    "from astropy.modeling import models\n",
    "from astropy import units as u\n",
    "from astropy.modeling.models import BlackBody\n",
    "from astropy.visualization import quantity_support\n",
    "\n",
    "import warnings\n",
    "warnings.filterwarnings(\"ignore\")"
   ]
  },
  {
   "cell_type": "code",
   "execution_count": 4,
   "id": "bf9b5b57",
   "metadata": {},
   "outputs": [],
   "source": [
    "T = 4e3*u.K #warm interstellar dust\n",
    "frequency = 1.3e15*u.Hz\n",
    "\n",
    "# Calculate blackbody curve with help from astropy\n",
    "bb = BlackBody(temperature=T)\n",
    "flux = bb(frequency)"
   ]
  },
  {
   "cell_type": "code",
   "execution_count": 5,
   "id": "a5fcd89f",
   "metadata": {},
   "outputs": [
    {
     "data": {
      "text/latex": [
       "$5.4519166 \\times 10^{-9} \\; \\mathrm{\\frac{erg}{Hz\\,s\\,sr\\,cm^{2}}}$"
      ],
      "text/plain": [
       "<Quantity 5.45191657e-09 erg / (cm2 Hz s sr)>"
      ]
     },
     "execution_count": 5,
     "metadata": {},
     "output_type": "execute_result"
    }
   ],
   "source": [
    "flux"
   ]
  },
  {
   "cell_type": "code",
   "execution_count": null,
   "id": "651a0f4b",
   "metadata": {},
   "outputs": [],
   "source": []
  }
 ],
 "metadata": {
  "kernelspec": {
   "display_name": "Python 3 (ipykernel)",
   "language": "python",
   "name": "python3"
  },
  "language_info": {
   "codemirror_mode": {
    "name": "ipython",
    "version": 3
   },
   "file_extension": ".py",
   "mimetype": "text/x-python",
   "name": "python",
   "nbconvert_exporter": "python",
   "pygments_lexer": "ipython3",
   "version": "3.9.13"
  }
 },
 "nbformat": 4,
 "nbformat_minor": 5
}
